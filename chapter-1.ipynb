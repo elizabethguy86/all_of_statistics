{
 "cells": [
  {
   "cell_type": "markdown",
   "metadata": {},
   "source": [
    "# All of Statistics: Chapter 1\n",
    "## Sets and Probabilities"
   ]
  },
  {
   "cell_type": "markdown",
   "metadata": {},
   "source": [
    "**Sets** are the most basic abstraction in mathematics, used to model abritrary collections of objects. A **Probability (measure)** is a function that assigns a real number in $[0, 1]$ to each set under consideration."
   ]
  },
  {
   "cell_type": "markdown",
   "metadata": {},
   "source": [
    "### Sets are Defined By Properties"
   ]
  },
  {
   "cell_type": "markdown",
   "metadata": {},
   "source": [
    "A basic part of the grammar of mathematics is defining a set as the collection of objects that satisfy a given property. This is so frequent, there is a ubiquitous notation for it:\n",
    "\n",
    "$$\n",
    "S = \\{ x: x \\text{ has property } P \\}\n",
    "$$\n",
    "\n",
    "For example:\n",
    "$$\n",
    "E = \\{ x: x \\text{ is an even integer}\\} = \\{\\cdots, -4, -2, 0, 2, 4, \\cdots\\} \\\\\n",
    "O = \\{ x: x \\text{ is an odd integer}\\} = \\{\\cdots, -3, -1, 1, 3, \\cdots\\} \\\\\n",
    "X = \\{ x: x \\text{ is the number 7}\\} = \\{7\\} \\\\\n",
    "$$\n",
    "\n",
    "Note that, in the above example, $X \\neq 7$. \n",
    "\n",
    "Though $7 \\in X$. Sets containing a single object are called **singletons**.\n",
    "\n",
    "The $\\in$ symbol is called **containment**, and the whole statement is read \n",
    "\n",
    "> The set $X$ contains seven."
   ]
  },
  {
   "cell_type": "markdown",
   "metadata": {},
   "source": [
    "### Sets with Proper Noun Names"
   ]
  },
  {
   "cell_type": "markdown",
   "metadata": {},
   "source": [
    "A few sets, mostly sets of numbers, are so common that they have proper noun names.\n",
    "\n",
    "The **empty set** is the set containing no objects. It has a proper noun name, it's a funny looking symbol:\n",
    "\n",
    "$$\n",
    "\\emptyset = \\{\\}\n",
    "$$\n",
    "\n",
    "Note that's not a greek phi ($\\phi$), it's a unique symbol reserved for this and only this purpose.\n",
    "\n",
    "$$\n",
    "\\mathbb{Z} = \\{x : x \\text{ is an integer}\\} = \\{\\cdots, -3, -2, -1, 0, 1, 2, 3, \\cdots\\} \\\\\n",
    "\\mathbb{Q} = \\left\\{ \\frac{a}{b} : a, b \\in \\mathbb{Z}, b \\neq 0 \\right\\}\n",
    "$$\n",
    "\n",
    "There are numbers that are not in $\\mathbb{Q}$, for example, $\\sqrt{2} \\not\\in \\mathbb{Q}$. \n",
    "\n",
    "Expanding to all numbers with decimal expansions gives the **real numbers** $\\mathbb{R}$. The real numbers are *weird*. Probably some weird things will happen in this book with the real numbers, it always does."
   ]
  },
  {
   "cell_type": "markdown",
   "metadata": {
    "ExecuteTime": {
     "end_time": "2021-01-05T04:58:20.595977Z",
     "start_time": "2021-01-05T04:58:20.593484Z"
    }
   },
   "source": [
    "### The Subset Predicate"
   ]
  },
  {
   "cell_type": "markdown",
   "metadata": {},
   "source": [
    "There is also a **predicate** defined for sets, a predicate is an experssion that evaluates to `True` or `False`. It's called **is a subset of**:\n",
    "\n",
    "\n",
    "The predicate $A \\subset B$ is true exactly when every $x \\in A$ also satisfies $x \\in B$. Everything in $A$ is also in $B$.\n",
    "\n",
    "So, for example:\n",
    "\n",
    "$$\n",
    "\\mathbb{Z} \\subset \\mathbb{Q} \\subset \\mathbb{R}\n",
    "$$\n",
    "\n",
    "Which is read:\n",
    "\n",
    "> The Integers are a subset of a Rationals, which are a subset of the reals."
   ]
  },
  {
   "cell_type": "markdown",
   "metadata": {},
   "source": [
    "**Theorem:** (Transativity of Subsets):  For any sets $A, B, C$, If $A \\subset B$ and $B \\subset C$, then $A \\subset C$.\n",
    "\n",
    "**Proof:** We need to show that if some element $x$ is in $A$, then it is also in $C$.\n",
    "\n",
    "So let $x \\in A$.\n",
    "\n",
    "Since $A \\subset B$, $x \\in B$.\n",
    "\n",
    "Since $B \\subset C$, $x \\in C$."
   ]
  },
  {
   "cell_type": "markdown",
   "metadata": {},
   "source": [
    "### A Weird Thing About Formal Logic\n",
    "\n",
    "It's actually true that $\\emptyset \\subset A$, no matter what the set $A$ is (in particular, $\\emptyset \\subset \\emptyset$).\n",
    "\n",
    "This is due to a weird (but useful) quirk of formal logic. It turns out that any statement like:\n",
    "\n",
    "> If $x$ has property P, then $x$ has propery $Q$\n",
    "\n",
    "is always true when there are *no* $x$'s with property $P$.\n",
    "\n",
    "So in the land of formal logic:\n",
    "\n",
    "> All female George Washingtons were traitors.\n",
    "\n",
    "Is a true statement. There's not really a good way to make this something super intuitive, logic just works out better when we accept this.\n",
    "\n",
    "Anyways, consider what $\\emptyset \\subset A$ means:\n",
    "\n",
    "> All $x \\in \\emptyset$ also satisfy $x \\in A$.\n",
    "\n",
    "Well, $x \\in \\emptyset$ is always false, so the statement is true no matter what $A$ is."
   ]
  },
  {
   "cell_type": "markdown",
   "metadata": {},
   "source": [
    "### Set Equality\n",
    "\n",
    "We say that two sets $A, B$ are **equal**, when $A \\subset B$, and $B \\subset A$. If you think about it, this can onle be the case if the sets contain exactly the same elements.\n",
    "\n",
    "So, *to show that two sets are equal*, it's almost always the correct strategy to break the work into two parts. Show $A \\subset B$, then show $B \\subset A$. We'll do some examples below."
   ]
  },
  {
   "cell_type": "markdown",
   "metadata": {},
   "source": [
    "### Operations On Sets"
   ]
  },
  {
   "cell_type": "markdown",
   "metadata": {},
   "source": [
    "There are a few operations that work on arbitrary abstract sets.\n",
    "\n",
    "If we have two sets we can either make a new set by taking what they have in common, this is called their **intersection**.\n",
    "\n",
    "$$\n",
    "A \\cap B = \\{ x : x \\in A \\text{ and } x \\in B \\}\n",
    "$$"
   ]
  },
  {
   "cell_type": "markdown",
   "metadata": {},
   "source": [
    "If we have two sets we can either make a new set by taking them together as one, this is called their **union**.\n",
    "\n",
    "$$\n",
    "A \\cup B = \\{ x : x \\in A \\text{ or } x \\in B \\}\n",
    "$$"
   ]
  },
  {
   "cell_type": "markdown",
   "metadata": {
    "ExecuteTime": {
     "end_time": "2021-01-07T22:32:17.204944Z",
     "start_time": "2021-01-07T22:32:17.197665Z"
    }
   },
   "source": [
    "Some subset relationships are always true:\n",
    "\n",
    "$$\n",
    "A \\subset A \\cup B \\\\\n",
    "A \\cap B \\subset A\n",
    "$$  "
   ]
  },
  {
   "cell_type": "markdown",
   "metadata": {},
   "source": [
    "**Theorem:** For any sets $A, B$, the satement $A \\subset A \\cup B$ is true.\n",
    "\n",
    "**Proof:** Take any element $x$ in $A$. So that, $X \\in A$ is a true statement.\n",
    "\n",
    "By the way the word \"and\" works:\n",
    "\n",
    "> $x \\in A$ or $x \\in B$\n",
    "\n",
    "is also a true statement. But this is the exact definition of $x \\in A \\cup B$."
   ]
  },
  {
   "cell_type": "markdown",
   "metadata": {},
   "source": [
    "**Theorem**: For any sets $A, B$, the statement $A \\cap B \\subset A$ is true.\n",
    "\n",
    "**Proof:** ..."
   ]
  },
  {
   "cell_type": "markdown",
   "metadata": {},
   "source": [
    "Some algebraic identities that are true for any sets $A$ and $B$ are:\n",
    "\n",
    "$$ \n",
    "A \\cup \\emptyset = A \\\\\n",
    "A \\cap \\emptyset = \\emptyset \\\\\n",
    "A \\cup B = B \\cup A \\\\\n",
    "A \\cap B = B \\cap A \\\\\n",
    "A \\cup (B \\cup C) = (A \\cup B) \\cup C \\\\\n",
    "A \\cap (B \\cap C) = (A \\cap B) \\cap C \\\\\n",
    "$$\n",
    "\n",
    "You get used to expressions like this as long as you take the time to untangle them, it gets easier to read with time."
   ]
  },
  {
   "cell_type": "markdown",
   "metadata": {},
   "source": [
    "### Sequences of Sets"
   ]
  },
  {
   "cell_type": "markdown",
   "metadata": {},
   "source": [
    "This works for more than two sets. Its common that we will have a **sequence** of sets, i.e., one set for each counting number: $A_1, A_2, A_3, \\cdots$.\n",
    "\n",
    "When we want a shorthand for this entire sequence, i.e., we want to consider the sequence as a singular object, we'll write something like $\\{ A_i \\}_{i = 1}^{\\infty}$.\n",
    "\n",
    "In this case, we can define the **union and the intersection of the entire sequence**:\n",
    "\n",
    "$$\n",
    "\\bigcup_{i=1}^{\\infty} A_i = \\{x : x \\in A_i \\text{ for at least one value of } i \\} \\\\\n",
    "\\bigcap_{i=1}^{\\infty} A_i = \\{x : x \\in A_i \\text{ for all values of } i \\} \\\\\n",
    "$$\n",
    "\n",
    "As a special case, when the sequences are increasing or decreasing:\n",
    "\n",
    "$$\n",
    "\\text{Increasing}: A_1 \\subset A_2 \\subset A_3 \\subset \\cdots \\\\\n",
    "\\text{Decreasing}: A_1 \\supset A_2 \\supset A_3 \\supset \\cdots \\\\\n",
    "$$\n",
    "\n",
    "We'll sometimes use a limit notation for the union/intersection of the entire sequence:\n",
    "\n",
    "$$\n",
    "\\text{Increasing}: \\lim_{i \\rightarrow \\infty} A_i = \\bigcup_{i=1}^{\\infty} A_i \\\\\n",
    "\\text{Decreasing}: \\lim_{i \\rightarrow \\infty} A_i = \\bigcap_{i=1}^{\\infty} A_i \\\\\n",
    "$$\n",
    "\n",
    "Note that here the meaning of the $\\lim$ notation is contextual, unfortunately."
   ]
  },
  {
   "cell_type": "markdown",
   "metadata": {
    "ExecuteTime": {
     "end_time": "2021-01-06T02:45:20.727353Z",
     "start_time": "2021-01-06T02:45:20.724469Z"
    }
   },
   "source": [
    "### Sample Spaces\n",
    "\n",
    "In this course we will be using mathematics to analyse situations and experiments, so the sets in our world will be of a specific kind. Our main sets of interes are those that collect together possible outcomes of a situation or experiment. To that end we adops some special terminology.\n",
    "\n",
    "A **sample space** is the collection of all possible outcomes of a situation or experiment.\n",
    "\n",
    "We will always adopt a specific notation for the sample space: $\\Omega$.\n",
    "\n",
    "Given our notation for a sample space is $\\Omega$, we'll call it's general elements (the outcomes) $\\omega$.\n",
    "\n",
    "Each individual set we are considering in any given situation is then a *subset* of our sample space, the jargon for these are an **event**."
   ]
  },
  {
   "cell_type": "markdown",
   "metadata": {
    "ExecuteTime": {
     "end_time": "2021-01-06T02:48:09.645928Z",
     "start_time": "2021-01-06T02:48:09.643910Z"
    }
   },
   "source": [
    "#### Example\n",
    "\n",
    "When we are flipping a coin, there are two possible outcomes, a heads and a tails. Therefore the sample space in this simple sitation is:\n",
    "\n",
    "$$\n",
    "\\Omega = \\{ H, T \\}\n",
    "$$\n",
    "\n",
    "There are four possible events in this situation: $\\emptyset, \\{H\\}, \\{T\\}, \\{H, T\\}$.\n",
    "\n",
    "In general, there are $2^n$ subsets of a set with $n$ elements."
   ]
  },
  {
   "cell_type": "markdown",
   "metadata": {
    "ExecuteTime": {
     "end_time": "2021-01-06T02:51:12.903915Z",
     "start_time": "2021-01-06T02:51:12.896565Z"
    }
   },
   "source": [
    "#### Example\n",
    "\n",
    "When we flip a coin *twice*, there are four possible outcomes:\n",
    "    \n",
    "$$\n",
    "\\Omega = \\{ HH, HT, TH, TT \\}\n",
    "$$\n",
    "\n",
    "But is this right? We're assuming the coins are distinguishable, and probably should have said so if that's what we meant! If we flip them at the same time, and they are indistinguishable, then there are only three possibilities!"
   ]
  },
  {
   "cell_type": "markdown",
   "metadata": {},
   "source": [
    "#### Example\n",
    "\n",
    "Sample spaces are slippery beasts.\n",
    "\n",
    "When we are flipping a coin, there are an **infinite number of outcomes**. According to Newton's laws of mechanics, the coin flip is completely determined by two mesurements:\n",
    "\n",
    "  - The amount of time the coin is flipping. This is a positive real number: $ \\mathbb{R}^{+}$\n",
    "  - The angular momentum we impart to the coin. This is any real numbers (I guess, if it's too large the coin will disintegrate I suppose).\n",
    "  \n",
    "So, from this perspective, the sample space is $\\Omega = \\mathbb{R}^{+} \\times \\mathbb{R}$."
   ]
  },
  {
   "cell_type": "markdown",
   "metadata": {},
   "source": [
    "So what's up with that? What's the relationship between the first example and the last one?"
   ]
  },
  {
   "cell_type": "markdown",
   "metadata": {},
   "source": [
    "### Complements of Sets\n",
    "\n",
    "From now on, we're always going to have a sample space $\\Omega$ in mind. That is, all the sets we have under consideration will always be a subset of a single large set $\\Omega$.\n",
    "\n",
    "In this situation, there is a *unary* operation available for sets, the **complement**:\n",
    "\n",
    "$$\n",
    "E^{c} = \\{ \\omega: \\omega \\in \\Omega \\text{ and } \\omega \\not\\in E \\}\n",
    "$$"
   ]
  },
  {
   "cell_type": "markdown",
   "metadata": {},
   "source": [
    "### Probability Measures\n",
    "\n",
    "A **probability measure** is a way of assigning real numbers to events. Mathematically, we have a function $P$ that consumes events, and outputs a real number. It must satisfy the following three properties:\n",
    "\n",
    "- **Non-negativity**: For any event $E$, $P(E) \\geq 0$.\n",
    "- **Finitivity**: For the entire sample space $\\Omega$, $P(\\Omega) = 1$.\n",
    "- **Disjoint Additivity**: When $E_1, E_2, \\cdots$ are a *disjoint* sequence of events:\n",
    "\n",
    "$$\n",
    "P \\left( \\bigcup_{i=1}^{\\infty} E_i \\right) = \\sum_{i=1}^{\\infty} P(E_i)\n",
    "$$\n",
    "\n",
    "**Everything you know about probability is a consequence of these three properties.**"
   ]
  },
  {
   "cell_type": "markdown",
   "metadata": {},
   "source": [
    "**Theorem:** For any event $E$, $P(E^c) = 1 - P(E)$.\n",
    "\n",
    "**Proof:** Since $E \\cup E^c = \\Omega$, and the sets $E$ and $E^c$ are disjoint:\n",
    "\n",
    "$$1 = P(\\Omega) = P(E \\cup E^c) = P(E) + P(E^c)$$. \n",
    "\n",
    "Now move the $P(E)$ to the other side. Zing."
   ]
  },
  {
   "cell_type": "markdown",
   "metadata": {},
   "source": [
    "**Theorem:** If $A \\subset B$, then $P(A) \\leq P(B)$.\n",
    "\n",
    "**Proof:** When $A \\subset B$, we can write $B$ as the union of $A$, and the part of $B$ that is outside of $A$, like this:\n",
    "\n",
    "$$\n",
    "B = A \\cup (B \\cap A^c)\n",
    "$$\n",
    "\n",
    "These two parts are disjoint, so:\n",
    "\n",
    "$$\n",
    "P(B) = P(A) + P(B \\cap A^c)\n",
    "$$\n",
    "\n",
    "But $P(B \\cap A^c)$ is a non-negative number, and `number < number + non-negative-number`."
   ]
  },
  {
   "cell_type": "markdown",
   "metadata": {},
   "source": [
    "**Theorem:** For any event $E$, $P(E) \\leq 1$.\n",
    "\n",
    "**Proof:** ..."
   ]
  },
  {
   "cell_type": "markdown",
   "metadata": {},
   "source": [
    "**Theorem:** For any event $E$, $P(E) \\geq 0$.\n",
    "\n",
    "**Proof:**: ..."
   ]
  },
  {
   "cell_type": "markdown",
   "metadata": {},
   "source": [
    "**Theorem:** $P(\\emptyset) = 0$.\n",
    "\n",
    "**Proof:** ..."
   ]
  },
  {
   "cell_type": "code",
   "execution_count": null,
   "metadata": {},
   "outputs": [],
   "source": []
  }
 ],
 "metadata": {
  "kernelspec": {
   "display_name": "Python 3",
   "language": "python",
   "name": "python3"
  },
  "language_info": {
   "codemirror_mode": {
    "name": "ipython",
    "version": 3
   },
   "file_extension": ".py",
   "mimetype": "text/x-python",
   "name": "python",
   "nbconvert_exporter": "python",
   "pygments_lexer": "ipython3",
   "version": "3.7.1"
  }
 },
 "nbformat": 4,
 "nbformat_minor": 4
}
